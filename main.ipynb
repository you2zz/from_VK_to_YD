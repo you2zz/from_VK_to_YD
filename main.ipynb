{
 "cells": [
  {
   "cell_type": "code",
   "execution_count": 83,
   "metadata": {},
   "outputs": [],
   "source": [
    "import os\n",
    "import time\n",
    "import json\n",
    "from math import ceil\n",
    "from pprint import pprint\n",
    "import requests\n",
    "import datetime\n",
    "from tqdm import tqdm\n",
    "from dotenv import load_dotenv\n",
    "\n",
    "load_dotenv()\n",
    "\n",
    "from vk_photo import VkApiHandler\n",
    "from yandex_disk import YandexDisk\n"
   ]
  },
  {
   "cell_type": "code",
   "execution_count": 85,
   "metadata": {},
   "outputs": [
    {
     "name": "stdout",
     "output_type": "stream",
     "text": [
      "Получен массив из 28 фотографий. Выполнено 100 %\n",
      "Папка анины фото вк создана в корневом каталоге Яндекс диска\n"
     ]
    },
    {
     "name": "stderr",
     "output_type": "stream",
     "text": [
      "100%|██████████| 20/20 [00:11<00:00,  1.70it/s]"
     ]
    },
    {
     "name": "stdout",
     "output_type": "stream",
     "text": [
      "Процесс завершен, скопировано новых файлов: 20 (по умолчанию: 5)\n",
      "Всего в исходном альбоме VK файлов: 28\n"
     ]
    },
    {
     "name": "stderr",
     "output_type": "stream",
     "text": [
      "\n"
     ]
    }
   ],
   "source": [
    "if __name__ == '__main__':\n",
    "    vk_token = os.getenv('VK_API_TOKEN')\n",
    "    yd_token = 'y0_AgAAAAABSEDuAADLWwAAAADi8j6CmHzAb6WNSFuHd3Vip8Dfr0Pycxo'\n",
    "    \n",
    "    vk= VkApiHandler(vk_token, '106420704', 30)\n",
    "    try:\n",
    "        with open('vk_photo.json', 'w') as file:\n",
    "            json.dump(vk.json, file)\n",
    "    \n",
    "        yd = YandexDisk('анины фото вк',token=yd_token, num = 20)\n",
    "        yd.create_copy(vk.export_dict)\n",
    "    except AttributeError as ex:\n",
    "        print(f'YD: проблемы на стороне VK! У нас все в порядке :-)')"
   ]
  }
 ],
 "metadata": {
  "kernelspec": {
   "display_name": "Python 3",
   "language": "python",
   "name": "python3"
  },
  "language_info": {
   "codemirror_mode": {
    "name": "ipython",
    "version": 3
   },
   "file_extension": ".py",
   "mimetype": "text/x-python",
   "name": "python",
   "nbconvert_exporter": "python",
   "pygments_lexer": "ipython3",
   "version": "3.11.3"
  },
  "orig_nbformat": 4
 },
 "nbformat": 4,
 "nbformat_minor": 2
}
