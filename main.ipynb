{
 "cells": [
  {
   "cell_type": "code",
   "execution_count": 4,
   "metadata": {},
   "outputs": [],
   "source": [
    "import os\n",
    "import time\n",
    "import json\n",
    "from math import ceil\n",
    "from pprint import pprint\n",
    "import requests\n",
    "import datetime\n",
    "from dotenv import load_dotenv\n",
    "\n",
    "load_dotenv()\n",
    "\n",
    "from vk_photo import VkApiHandler\n"
   ]
  },
  {
   "cell_type": "code",
   "execution_count": 6,
   "metadata": {},
   "outputs": [
    {
     "name": "stdout",
     "output_type": "stream",
     "text": [
      "Получен массив из 5 фотографий. Выполнено 56 %\n",
      "Получен массив из 9 фотографий. Выполнено 100 %\n"
     ]
    }
   ],
   "source": [
    "if __name__ == '__main__':\n",
    "    vk_token = os.getenv('VK_API_TOKEN')\n",
    "    vk= VkApiHandler(vk_token, '1', 5)\n",
    "    # vk = VkApiHandler(vk_token, '1', 5)\n",
    "    # with open('vk_photo.json', 'w') as outfile:\n",
    "    #     json.dump(vk.get_photo_info('1'), outfile)\n",
    "    \n",
    "    # pprint(vk.get_photo_info())\n",
    "    # photo_count, photo_items = vk.get_photo_info()\n",
    "    # print(photo_count)\n",
    "    # for i in range(photo_count):\n",
    "    #     url, p_size = vk.find_photo_max_size(photo_items[i]['sizes'])\n",
    "    #     print(f'{p_size}: {url}')\n",
    "    # pprint(vk.get_photo_params())\n",
    "    # jl, ud = vk.get_photo_json()\n",
    "    # pprint(jl)\n",
    "    # pprint(ud)\n",
    "    # with open('vk_photo.json', 'w') as outfile:\n",
    "    #     json.dump(jl, outfile)\n",
    "    # with open('vk_photo.json', 'w') as outfile:\n",
    "    #     json.dump(vk.json, outfile)\n",
    "        \n",
    "    # pprint(vk.export_dict)\n",
    "\n"
   ]
  },
  {
   "cell_type": "code",
   "execution_count": null,
   "metadata": {},
   "outputs": [],
   "source": [
    "class YandexDisk:\n",
    "\n",
    "    def __init__(self, folder_name, token, num=5):\n",
    "        self.token = token\n",
    "        self.file_upload_num = num\n",
    "        self.url = 'https://cloud-api.yandex.net/v1/disk/resources/upload'\n",
    "        self.headers = self.get_headers()\n",
    "        self.folder = self.create_folder(folder_name)\n",
    "\n",
    "    def get_headers(self):\n",
    "        return {\n",
    "            'Content-Type': 'application/json',\n",
    "            'Authorization': 'OAuth {}'.format(self.token)\n",
    "        }\n",
    "    \n",
    "    def create_folder(self, folder_name):\n",
    "        \"\"\"Метод создает папку на Yandex Disk для загрузки фотографий\"\"\"\n",
    "        url = \"https://cloud-api.yandex.net/v1/disk/resources\"\n",
    "        params = {'path': folder_name}\n",
    "        resp = requests.get(url, headers=self.headers, params=params)\n",
    "        if resp.status_code != 200:\n",
    "            response = requests.put(url, headers=self.headers, params=params)\n",
    "            if response.status_code == 201:\n",
    "                print(f'Папка {folder_name} созджана в корневом каталоге Яндекс диска')\n",
    "            else:\n",
    "                print(f'Папке не была создана! Код ошибки: {response.status_code}')\n",
    "        else:\n",
    "            print(f'Папка {folder_name} уже существует. Файлы с одинаковыми именами не будут скопированы')\n",
    "        return folder_name\n",
    "        \n",
    "\n",
    "\n",
    "\n",
    "        \n",
    "\n",
    "\n",
    "\n",
    "\n",
    "    def get_files_list(self):\n",
    "        files_url = 'https://cloud-api.yandex.net/v1/disk/resources/files'\n",
    "        headers = self.get_headers()\n",
    "        response = requests.get(files_url, headers=headers)\n",
    "        return response.json()\n",
    "\n",
    "    def _get_upload_link(self, disk_file_path):\n",
    "        upload_url = \"https://cloud-api.yandex.net/v1/disk/resources/upload\"\n",
    "        headers = self.get_headers()\n",
    "        params = {\"path\": disk_file_path, \"overwrite\": \"true\"}\n",
    "        response = requests.get(upload_url, headers=headers, params=params)\n",
    "        return response.json()\n",
    "\n",
    "    def upload_file_to_disk(self, disk_file_path, filename):\n",
    "        href = self._get_upload_link(disk_file_path=disk_file_path).get(\"href\", \"\")\n",
    "        with open(filename, 'rb') as data:\n",
    "            response = requests.put(href, data)\n",
    "            response.raise_for_status()\n",
    "            if response.status_code == 201:\n",
    "                print(\"Success\")"
   ]
  }
 ],
 "metadata": {
  "kernelspec": {
   "display_name": "Python 3",
   "language": "python",
   "name": "python3"
  },
  "language_info": {
   "codemirror_mode": {
    "name": "ipython",
    "version": 3
   },
   "file_extension": ".py",
   "mimetype": "text/x-python",
   "name": "python",
   "nbconvert_exporter": "python",
   "pygments_lexer": "ipython3",
   "version": "3.11.3"
  },
  "orig_nbformat": 4
 },
 "nbformat": 4,
 "nbformat_minor": 2
}
