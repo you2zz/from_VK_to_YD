{
 "cells": [
  {
   "cell_type": "code",
   "execution_count": 3,
   "metadata": {},
   "outputs": [],
   "source": [
    "import os\n",
    "import time # необходим для использования задержек методом sleep (в коде нет)\n",
    "from pprint import pprint\n",
    "import pandas as pd\n",
    "import requests\n",
    "from dotenv import load_dotenv"
   ]
  },
  {
   "cell_type": "code",
   "execution_count": 4,
   "metadata": {},
   "outputs": [],
   "source": [
    "class VkApiHandler:\n",
    "\n",
    "    base_url = 'https://api.vk.com/method/'\n",
    "\n",
    "    def __init__(self, access_token, version='5.131'):\n",
    "        self.params = {\n",
    "            'access_oken': access_token,\n",
    "            'v': version\n",
    "        }\n",
    "\n",
    "    def _get_photo_info(self, owner_id):\n",
    "        metod_name = f'{self.base_url}photos.get'\n",
    "        params = {\n",
    "            'owner_id':owner_id,\n",
    "            'album_id': 'profile',\n",
    "            'extended': 1,\n",
    "            'photo_sizes': 1,\n",
    "            'rev': 1,\n",
    "            **self.params\n",
    "        }"
   ]
  }
 ],
 "metadata": {
  "kernelspec": {
   "display_name": "Python 3",
   "language": "python",
   "name": "python3"
  },
  "language_info": {
   "codemirror_mode": {
    "name": "ipython",
    "version": 3
   },
   "file_extension": ".py",
   "mimetype": "text/x-python",
   "name": "python",
   "nbconvert_exporter": "python",
   "pygments_lexer": "ipython3",
   "version": "3.11.3"
  },
  "orig_nbformat": 4
 },
 "nbformat": 4,
 "nbformat_minor": 2
}
